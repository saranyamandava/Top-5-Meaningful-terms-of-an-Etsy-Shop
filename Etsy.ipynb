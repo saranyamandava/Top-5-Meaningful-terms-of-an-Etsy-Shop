{
  "nbformat": 4,
  "nbformat_minor": 0,
  "metadata": {
    "colab": {
      "name": "Etsy.ipynb",
      "version": "0.3.2",
      "provenance": [],
      "collapsed_sections": [],
      "include_colab_link": true
    },
    "kernelspec": {
      "name": "python3",
      "display_name": "Python 3"
    }
  },
  "cells": [
    {
      "cell_type": "markdown",
      "metadata": {
        "id": "view-in-github",
        "colab_type": "text"
      },
      "source": [
        "<a href=\"https://colab.research.google.com/github/saranyamandava/Top-5-Meaningful-terms-of-an-Etsy-Shop/blob/master/Etsy.ipynb\" target=\"_parent\"><img src=\"https://colab.research.google.com/assets/colab-badge.svg\" alt=\"Open In Colab\"/></a>"
      ]
    },
    {
      "metadata": {
        "id": "6QaF4V0A74bs",
        "colab_type": "text"
      },
      "cell_type": "markdown",
      "source": [
        "#Problem:\n",
        "Etsy is a marketplace where creative entrepreneurs sell what they make or curate to online shoppers. There are 1.6 million active sellers with more than 35 million hand crafted items for sale. \\\\\n",
        "\n",
        "The goal of this project is to reasonably determine the five meaningful terms for each given shop in an Etsy shop sample. \\\n",
        "\n",
        "Web UI for this project can be accessed using http://etsyapp.us-east-1.elasticbeanstalk.com/\n",
        "\n",
        "# Applications: \n",
        "1. Identify shops selling similar products. \\\\\n",
        "2. It may Improve sales by identifying information about top sellers. (It would be more effective if we use sales listings instead of active listings. But Etsy does not share sales data publicly on their website nor through their developer API.) \\\n",
        "3. Users who spend a lot of time looking at certain shops could be shown other similar suggested shops to check out.\n"
      ]
    },
    {
      "metadata": {
        "id": "AwU9s8EgsAn1",
        "colab_type": "text"
      },
      "cell_type": "markdown",
      "source": [
        "# Import the Libraries:"
      ]
    },
    {
      "metadata": {
        "id": "Pl7lYufCqw7K",
        "colab_type": "code",
        "colab": {}
      },
      "cell_type": "code",
      "source": [
        "import sys\n",
        "import json\n",
        "import urllib\n",
        "import logging\n",
        "import urllib.request\n",
        "import re\n",
        "import math\n",
        "import operator\n",
        "import pandas as pd\n",
        "import nltk\n",
        "from nltk.corpus import stopwords"
      ],
      "execution_count": 0,
      "outputs": []
    },
    {
      "metadata": {
        "id": "ZtuDtWD1q5H_",
        "colab_type": "code",
        "colab": {}
      },
      "cell_type": "code",
      "source": [
        "# API key is removed\n",
        "KEYSTRING = \"REMOVED\" \n",
        "URL_BASE = \"https://openapi.etsy.com/v2/\""
      ],
      "execution_count": 0,
      "outputs": []
    },
    {
      "metadata": {
        "id": "poUVy9U5rZDA",
        "colab_type": "code",
        "colab": {}
      },
      "cell_type": "code",
      "source": [
        "# the total number of shops to download\n",
        "total = 10  "
      ],
      "execution_count": 0,
      "outputs": []
    },
    {
      "metadata": {
        "id": "PckdGhtN8Vc8",
        "colab_type": "text"
      },
      "cell_type": "markdown",
      "source": [
        "# Getting the Data:\n",
        "The below code gets the data in json format from the Etsy using API key. Using this, random set of 10 shops are fetched."
      ]
    },
    {
      "metadata": {
        "id": "vFbmUhBDtXhD",
        "colab_type": "code",
        "colab": {}
      },
      "cell_type": "code",
      "source": [
        "def get_data_from_api(url):\n",
        "\n",
        "    # Input: a url\n",
        "    # Output: the .json objects found at that url\n",
        "    \n",
        "    try:\n",
        "        with urllib.request.urlopen(url) as url:\n",
        "            objects = json.loads(url.read().decode())\n",
        "    except:\n",
        "        e = sys.exc_info()[0]\n",
        "        logging.error(\"We had an error (\" + str(e) + \") with url \" + url + \".\")\n",
        "        objects = None\n",
        "    return objects"
      ],
      "execution_count": 0,
      "outputs": []
    },
    {
      "metadata": {
        "id": "2bwx3fBAtEw5",
        "colab_type": "code",
        "colab": {}
      },
      "cell_type": "code",
      "source": [
        "def get_shops(limit, offset):\n",
        "    \n",
        "    # Inputs: limit = the number of shops to download,\n",
        "    #         offset = the starting index of shops to fetch\n",
        "    # Output: A list of shops, from the Etsy API\n",
        "    \n",
        "    url = (\n",
        "        URL_BASE \n",
        "        + \"shops?\"\n",
        "        + \"&limit=\" + str(limit)\n",
        "        + \"&offset=\" + str(offset)\n",
        "        + \"&api_key=\" + KEYSTRING\n",
        "    ) \n",
        "    object = get_data_from_api(url)\n",
        "    if object and object['results']:\n",
        "        return object['results']\n",
        "    else:\n",
        "        return []"
      ],
      "execution_count": 0,
      "outputs": []
    },
    {
      "metadata": {
        "id": "ksOBmCcC86v5",
        "colab_type": "text"
      },
      "cell_type": "markdown",
      "source": [
        "The below code gets the shop details along with their listings."
      ]
    },
    {
      "metadata": {
        "id": "RpQae_r0srzK",
        "colab_type": "code",
        "outputId": "05bb8e24-f759-4d79-b9a3-96efe96f1a9d",
        "colab": {
          "base_uri": "https://localhost:8080/",
          "height": 34
        }
      },
      "cell_type": "code",
      "source": [
        "# Fetch the initial set of shops      \n",
        "print (\"Getting shops.\")    \n",
        "shops = []\n",
        "for offset in range(0, total, 2):\n",
        "  limit = min(total - offset, 2)\n",
        "  shops += get_shops(limit, offset) "
      ],
      "execution_count": 0,
      "outputs": [
        {
          "output_type": "stream",
          "text": [
            "Getting shops.\n"
          ],
          "name": "stdout"
        }
      ]
    },
    {
      "metadata": {
        "id": "Dp9ijjxSsIow",
        "colab_type": "text"
      },
      "cell_type": "markdown",
      "source": [
        "# Fetching the Listings:\n",
        "Below function gets the active listings for all the shops."
      ]
    },
    {
      "metadata": {
        "id": "Mi0byCeq4i-y",
        "colab_type": "code",
        "colab": {}
      },
      "cell_type": "code",
      "source": [
        "def get_listings(shop_id):\n",
        "\n",
        "    # Input: a shop_id\n",
        "    # Output: A list of listings from that shop, from the Etsy API\n",
        "    \n",
        "    url = (\n",
        "        URL_BASE \n",
        "        + \"shops/\" \n",
        "        + str(shop_id)\n",
        "        + \"/listings/active?\"\n",
        "        + \"&api_key=\" + KEYSTRING\n",
        "    )\n",
        "    object = get_data_from_api(url)\n",
        "    if object and object['results']:\n",
        "        return object['results']\n",
        "    else:\n",
        "        return []"
      ],
      "execution_count": 0,
      "outputs": []
    },
    {
      "metadata": {
        "id": "LDQ7A0CK5CDY",
        "colab_type": "code",
        "colab": {}
      },
      "cell_type": "code",
      "source": [
        "logging.info(\"Getting listings.\")\n",
        "total_listings = []\n",
        "for shop in shops:\n",
        "  shop['listings'] = get_listings(shop['shop_id'])\n",
        "  total_listings.append(len(shop['listings']))"
      ],
      "execution_count": 0,
      "outputs": []
    },
    {
      "metadata": {
        "id": "2fxdN9ZTQdQc",
        "colab_type": "code",
        "outputId": "f63d5207-c202-47cb-9590-892ce4ee754c",
        "colab": {
          "base_uri": "https://localhost:8080/",
          "height": 34
        }
      },
      "cell_type": "code",
      "source": [
        "# count's of listing from each shop\n",
        "print (total_listings)"
      ],
      "execution_count": 0,
      "outputs": [
        {
          "output_type": "stream",
          "text": [
            "[1, 1, 1, 3, 1, 1, 1, 2, 1, 1]\n"
          ],
          "name": "stdout"
        }
      ]
    },
    {
      "metadata": {
        "id": "BfAI2VMM6kub",
        "colab_type": "code",
        "outputId": "804913c7-df08-4434-eb23-780678c6f5c0",
        "colab": {
          "base_uri": "https://localhost:8080/",
          "height": 1720
        }
      },
      "cell_type": "code",
      "source": [
        "shops[2]"
      ],
      "execution_count": 0,
      "outputs": [
        {
          "output_type": "execute_result",
          "data": {
            "text/plain": [
              "{'accepts_custom_requests': False,\n",
              " 'announcement': None,\n",
              " 'creation_tsz': 1546523566,\n",
              " 'currency_code': 'EUR',\n",
              " 'digital_listing_count': 0,\n",
              " 'digital_sale_message': None,\n",
              " 'has_onboarded_structured_policies': False,\n",
              " 'has_unstructured_policies': False,\n",
              " 'icon_url_fullxfull': None,\n",
              " 'image_url_760x100': None,\n",
              " 'include_dispute_form_link': False,\n",
              " 'is_calculated_eligible': False,\n",
              " 'is_direct_checkout_onboarded': True,\n",
              " 'is_using_structured_policies': False,\n",
              " 'is_vacation': False,\n",
              " 'languages': ['es'],\n",
              " 'last_updated_tsz': 1546523566,\n",
              " 'listing_active_count': 1,\n",
              " 'listings': [{'category_id': 68890062,\n",
              "   'category_path': ['Clothing', 'Jacket'],\n",
              "   'category_path_ids': [69150353, 68890062],\n",
              "   'creation_tsz': 1546523566,\n",
              "   'currency_code': 'EUR',\n",
              "   'description': 'Super dope vintage Tommy Hilfiger jacket!!\\n\\nMeasurements: XXL \\n\\nLenght: 70cm/29&quot;\\nArmpit to armpit: 68,5cm/28&quot;\\nArmpit to the end of cuff: 54cm/21&quot;\\nFrom neck to the end of cuff: 84cm/33&quot;\\n\\n\\nAsk me any question and i will reply as soon as possible!\\n\\nThanks for buying here!! Have a good day',\n",
              "   'ending_tsz': 1556887966,\n",
              "   'featured_rank': None,\n",
              "   'file_data': '',\n",
              "   'has_variations': False,\n",
              "   'is_customizable': False,\n",
              "   'is_digital': False,\n",
              "   'is_private': False,\n",
              "   'is_supply': 'false',\n",
              "   'item_dimensions_unit': 'mm',\n",
              "   'item_height': None,\n",
              "   'item_length': None,\n",
              "   'item_weight': None,\n",
              "   'item_weight_unit': 'g',\n",
              "   'item_width': None,\n",
              "   'language': 'es',\n",
              "   'last_modified_tsz': 1546523566,\n",
              "   'listing_id': 672097371,\n",
              "   'materials': [],\n",
              "   'non_taxable': False,\n",
              "   'num_favorers': 0,\n",
              "   'occasion': None,\n",
              "   'original_creation_tsz': 1546523012,\n",
              "   'price': '100.00',\n",
              "   'processing_max': 2,\n",
              "   'processing_min': 1,\n",
              "   'quantity': 1,\n",
              "   'recipient': None,\n",
              "   'shipping_template_id': None,\n",
              "   'shop_section_id': None,\n",
              "   'should_auto_renew': True,\n",
              "   'sku': [],\n",
              "   'state': 'active',\n",
              "   'state_tsz': 1546523013,\n",
              "   'style': None,\n",
              "   'tags': ['tommy hilfiger 90s',\n",
              "    'polo sport',\n",
              "    'lo life',\n",
              "    'vintage tommy hilfiger',\n",
              "    '90s vintage jacket',\n",
              "    'xxl tommy hilfiger',\n",
              "    'sailing gear',\n",
              "    'color block tommy',\n",
              "    '90s hip hop jacket',\n",
              "    'ralph lauren vintage',\n",
              "    'snow beach',\n",
              "    'avirex'],\n",
              "   'taxonomy_id': 2142,\n",
              "   'taxonomy_path': ['Clothing', 'Unisex Adult Clothing', 'Jackets & Coats'],\n",
              "   'title': 'VTG 90s Tommy Hilfiger Sailing Gear Jacket',\n",
              "   'url': 'https://www.etsy.com/listing/672097371/vtg-90s-tommy-hilfiger-sailing-gear?utm_source=identifythetop5meani&utm_medium=api&utm_campaign=api',\n",
              "   'used_manufacturer': False,\n",
              "   'user_id': 113002852,\n",
              "   'views': 0,\n",
              "   'when_made': '1970s',\n",
              "   'who_made': 'someone_else'}],\n",
              " 'login_name': 'thatniggaaj',\n",
              " 'num_favorers': 0,\n",
              " 'policy_additional': None,\n",
              " 'policy_has_private_receipt_info': False,\n",
              " 'policy_payment': None,\n",
              " 'policy_privacy': None,\n",
              " 'policy_refunds': None,\n",
              " 'policy_seller_info': None,\n",
              " 'policy_shipping': None,\n",
              " 'policy_updated_tsz': 0,\n",
              " 'policy_welcome': None,\n",
              " 'sale_message': None,\n",
              " 'shop_id': 19259721,\n",
              " 'shop_name': 'originalvintageish',\n",
              " 'title': None,\n",
              " 'upcoming_local_event_id': None,\n",
              " 'url': 'https://www.etsy.com/shop/originalvintageish?utm_source=identifythetop5meani&utm_medium=api&utm_campaign=api',\n",
              " 'user_id': 113002852,\n",
              " 'vacation_autoreply': None,\n",
              " 'vacation_message': None}"
            ]
          },
          "metadata": {
            "tags": []
          },
          "execution_count": 11
        }
      ]
    },
    {
      "metadata": {
        "id": "luZk8D-Q9MpO",
        "colab_type": "text"
      },
      "cell_type": "markdown",
      "source": [
        "# Splitting the Title and Description  from each listing to identify terms:\n",
        "The below code fetches the terms from title and description of each listing for specified shops."
      ]
    },
    {
      "metadata": {
        "id": "MHEOgchA6-sC",
        "colab_type": "code",
        "colab": {}
      },
      "cell_type": "code",
      "source": [
        "def get_listing_terms(listings):\n",
        "\n",
        "    # Input: a list of Etsy Listing objects\n",
        "    # Output: a list of terms found in various fields in these listings\n",
        "    \n",
        "    terms = []\n",
        "    for listing in listings:\n",
        "\n",
        "        if listing['title']:\n",
        "            terms += listing['title'].split()\n",
        "        if listing['description']:\n",
        "            terms += listing['description'].split()    \n",
        "            \n",
        "    return terms"
      ],
      "execution_count": 0,
      "outputs": []
    },
    {
      "metadata": {
        "id": "gN5upu5PJWYC",
        "colab_type": "code",
        "outputId": "8a2beb84-d756-4ef6-df3a-9aa3d8e0833f",
        "colab": {
          "base_uri": "https://localhost:8080/",
          "height": 68
        }
      },
      "cell_type": "code",
      "source": [
        "nltk.download('stopwords')"
      ],
      "execution_count": 0,
      "outputs": [
        {
          "output_type": "stream",
          "text": [
            "[nltk_data] Downloading package stopwords to /root/nltk_data...\n",
            "[nltk_data]   Package stopwords is already up-to-date!\n"
          ],
          "name": "stdout"
        },
        {
          "output_type": "execute_result",
          "data": {
            "text/plain": [
              "True"
            ]
          },
          "metadata": {
            "tags": []
          },
          "execution_count": 42
        }
      ]
    },
    {
      "metadata": {
        "id": "95gTyaFvJoWV",
        "colab_type": "text"
      },
      "cell_type": "markdown",
      "source": [
        "#Making a Custom list of Stop Words\n",
        "This list includes more stop words based on observations (from the output of term counts) along with stop words in nltk library"
      ]
    },
    {
      "metadata": {
        "id": "L-29HQc6Jm6j",
        "colab_type": "code",
        "colab": {}
      },
      "cell_type": "code",
      "source": [
        "\"\"\"Create a list of common words to remove\"\"\"\n",
        "stop_words=['a','about','above','after','again','against','ain','all','am','an','and','any','are','aren',\"aren't\",'as','at','be',\n",
        "             'because','been','before','being','below','between','both','but','by','can','couldn',\"couldn't\",'d','did','didn',\n",
        "             \"didn't\",'do','does','doesn',\"doesn't\",'doing','don',\"don't\",'down','during','each','few','for','from','further',\n",
        "             'had','hadn',\"hadn't\",'has','hasn',\"hasn't\",'have','haven',\"haven't\",'having','he','her','here','hers','herself',\n",
        "             'him','himself','his','how','i','if','in','into','is','isn',\"isn't\",'it',\"it's\",'its','itself','just','ll','m','ma',\n",
        "             'me','mightn',\"mightn't\",'more','most','mustn',\"mustn't\",'my','myself','needn',\"needn't\",'no','nor','not','now','o',\n",
        "             'of','off','on','once','only','or','other','our','ours','ourselves','out','over','own','re','s','same','shan',\"shan't\",\n",
        "             'she',\"she's\",'should',\"should've\",'shouldn',\"shouldn't\",'so','some','such','t','than','that',\"that'll\",'the','their',\n",
        "             'theirs','them','themselves','then','there','these','they','this','those','through','to','too','under','until','up','ve',\n",
        "             'very','was','wasn',\"wasn't\",'we','were','weren',\"weren't\",'what','when','where','which','while','who','whom','why',\n",
        "             'will','with','won',\"won't\",'wouldn',\"wouldn't\",'y','you',\"you'd\",\"you'll\",\"you're\",\"you've\",'your','yours','yourself',\n",
        "             'yourselves','d','oz','t',\"http\",'r','e','n','u','us','l','etsy','c','name','cm','x','svg','ref','aus', 'vier', 'mit','mm']"
      ],
      "execution_count": 0,
      "outputs": []
    },
    {
      "metadata": {
        "id": "zsjRDZGxu6fP",
        "colab_type": "text"
      },
      "cell_type": "markdown",
      "source": [
        "# Cleaning:\n",
        "All the non-alphabetic characters including stop words, numbers, non-alphabetic characters were removed. \\\\\n",
        "Numbers has to be removed just for the sake of not getting them included in top terms, which doesn't give much information. \\\\\n",
        "Most common words from vocabulary are removed using stopwords."
      ]
    },
    {
      "metadata": {
        "id": "WP_XZ_lyCcSH",
        "colab_type": "code",
        "colab": {}
      },
      "cell_type": "code",
      "source": [
        "def clean_terms(terms):\n",
        "\n",
        "    # Input: a list of terms\n",
        "    # Output: a list of these terms with non-alphabetic characters and stopwords removed, \n",
        "    #         converted to lowercase, and tokenized\n",
        "    \n",
        "    cleaned = []\n",
        "    #stops = set(stopwords.words(\"english\"))\n",
        "    for term in terms:\n",
        "        stems = re.sub('[^a-zA-Z]+', ' ', term).lower().strip().split()\n",
        "        text = [w for w in stems if not w in stop_words]\n",
        "    \n",
        "        for stem in text:\n",
        "            cleaned.append(stem)\n",
        "    return cleaned"
      ],
      "execution_count": 0,
      "outputs": []
    },
    {
      "metadata": {
        "id": "gjupI9W9v0_m",
        "colab_type": "text"
      },
      "cell_type": "markdown",
      "source": [
        "# Calculating Term Counts:"
      ]
    },
    {
      "metadata": {
        "id": "UCmSWuybBGbP",
        "colab_type": "code",
        "colab": {}
      },
      "cell_type": "code",
      "source": [
        "def get_term_counts(terms):\n",
        "\n",
        "    # Input: a list of terms\n",
        "    # Output: a hash from term to term count\n",
        "    \n",
        "    term_counts = {}\n",
        "    if not terms:\n",
        "        return term_counts\n",
        "    for term in terms:\n",
        "        if term not in term_counts:\n",
        "            term_counts[term] = 0\n",
        "        term_counts[term] += 1\n",
        "    return term_counts"
      ],
      "execution_count": 0,
      "outputs": []
    },
    {
      "metadata": {
        "id": "wmASV7BK64RB",
        "colab_type": "code",
        "colab": {}
      },
      "cell_type": "code",
      "source": [
        "# Collect the terms from each shop and its related objects\n",
        "all_terms = []\n",
        "z = []\n",
        "for shop in shops:\n",
        "  terms = [] \n",
        "  z.append(shop['shop_name'])\n",
        "  terms += get_listing_terms(shop['listings'])\n",
        "  # Store the term-count hash in the shop object\n",
        "  shop['term_counts'] = get_term_counts(clean_terms(terms))\n",
        "  all_terms += shop['term_counts'].keys()"
      ],
      "execution_count": 0,
      "outputs": []
    },
    {
      "metadata": {
        "id": "OitPE0je7q9o",
        "colab_type": "code",
        "outputId": "91f011f0-0e8d-4a48-830e-f5ca8e7a6fba",
        "colab": {
          "base_uri": "https://localhost:8080/",
          "height": 1547
        }
      },
      "cell_type": "code",
      "source": [
        "terms"
      ],
      "execution_count": 0,
      "outputs": [
        {
          "output_type": "execute_result",
          "data": {
            "text/plain": [
              "['Predators',\n",
              " 'Helmet',\n",
              " '(HA-0001)',\n",
              " 'Predators',\n",
              " 'Helmet',\n",
              " '👹',\n",
              " 'Predator',\n",
              " 'Mask',\n",
              " 'made',\n",
              " 'of',\n",
              " 'fiberglass',\n",
              " '+',\n",
              " 'the',\n",
              " 'real',\n",
              " 'helmet',\n",
              " 'inside',\n",
              " 'with',\n",
              " 'good',\n",
              " 'paint.',\n",
              " '–',\n",
              " 'Comes',\n",
              " 'with',\n",
              " 'black',\n",
              " 'visor',\n",
              " '–',\n",
              " 'Added',\n",
              " '2',\n",
              " 'dots',\n",
              " 'LED',\n",
              " 'Lights',\n",
              " 'both',\n",
              " 'of',\n",
              " 'sides',\n",
              " '–',\n",
              " 'LED',\n",
              " 'lights',\n",
              " 'color',\n",
              " 'available',\n",
              " ':',\n",
              " 'BLUE,',\n",
              " 'GREEN',\n",
              " 'N',\n",
              " 'RED',\n",
              " '+',\n",
              " 'On/Off',\n",
              " 'Switch',\n",
              " '–',\n",
              " 'Size',\n",
              " 'Available',\n",
              " ':',\n",
              " 'S',\n",
              " '–',\n",
              " 'M',\n",
              " '–',\n",
              " 'L',\n",
              " '–',\n",
              " 'XL',\n",
              " '–',\n",
              " 'The',\n",
              " 'Helmet',\n",
              " 'basic',\n",
              " 'has',\n",
              " 'a',\n",
              " 'DOT',\n",
              " 'Approved',\n",
              " '–',\n",
              " 'Color',\n",
              " '&',\n",
              " 'Airbrush',\n",
              " 'design',\n",
              " 'by',\n",
              " 'Request',\n",
              " '____________________________________________________________',\n",
              " '☑',\n",
              " 'Worldwide',\n",
              " 'shipping.',\n",
              " '☑',\n",
              " 'Secure',\n",
              " 'Payment',\n",
              " 'Through',\n",
              " 'PayPal',\n",
              " '☑',\n",
              " 'Please',\n",
              " 'choose',\n",
              " 'your',\n",
              " 'size,',\n",
              " 'because',\n",
              " 'we',\n",
              " 'can&#39;t',\n",
              " 'refund']"
            ]
          },
          "metadata": {
            "tags": []
          },
          "execution_count": 47
        }
      ]
    },
    {
      "metadata": {
        "id": "G9mlaWWzA1ds",
        "colab_type": "code",
        "colab": {}
      },
      "cell_type": "code",
      "source": [
        "def get_term_weights(term_counts, term_shop_counts, num_shops):\n",
        "\n",
        "    # Input: a hash of term to term count, \n",
        "    #        a hash of term to the number of documents which contain that term,\n",
        "    #        the total number of shops\n",
        "    # Output: a hash of terms to the tf-idf weighting of each term,\n",
        "    #         using the augmented norm for term frequency\n",
        "    \n",
        "    weights = {}\n",
        "    max_count = 1\n",
        "    for term in term_counts:\n",
        "        max_count = max(max_count, term_counts[term])\n",
        "    for term in term_counts:\n",
        "        normalized_count = 0.5 + 0.5 * term_counts[term] / max_count\n",
        "        weights[term] = normalized_count * math.log(float(num_shops) / term_shop_counts[term])\n",
        "    return weights"
      ],
      "execution_count": 0,
      "outputs": []
    },
    {
      "metadata": {
        "id": "u4dBzk_huD9r",
        "colab_type": "code",
        "colab": {}
      },
      "cell_type": "code",
      "source": [
        "# Calculate the number of shops that use each term      \n",
        "    term_shop_counts = get_term_counts(all_terms)"
      ],
      "execution_count": 0,
      "outputs": []
    },
    {
      "metadata": {
        "id": "Iu5qgSRGAhH5",
        "colab_type": "code",
        "colab": {}
      },
      "cell_type": "code",
      "source": [
        "# Calculate the tf-idf weight for the terms in each shop\n",
        "for shop in shops:\n",
        "  shop['term_weights'] = get_term_weights(shop['term_counts'], term_shop_counts, len(shops))"
      ],
      "execution_count": 0,
      "outputs": []
    },
    {
      "metadata": {
        "id": "G5l4ulLJ9it3",
        "colab_type": "text"
      },
      "cell_type": "markdown",
      "source": [
        "# Identifying meaningful terms has been done in two ways: \n",
        "1.Bag-of-words  \\\\\n",
        "2.TF-IDF Vectorization \\\\\n",
        "Let's use these two approaches  and check which one performs better."
      ]
    },
    {
      "metadata": {
        "id": "aQEFZD1M2ts_",
        "colab_type": "text"
      },
      "cell_type": "markdown",
      "source": [
        "# Bag-of-Words"
      ]
    },
    {
      "metadata": {
        "id": "AHLrQq0quiys",
        "colab_type": "code",
        "colab": {}
      },
      "cell_type": "code",
      "source": [
        "# Creating dataframe variables for holding shop_name and their respective terms\n",
        "\n",
        "x = []\n",
        "y = []\n",
        "df = pd.DataFrame(columns =['shop_name','Top 5 Terms'])\n",
        "\n",
        "for primary_shop in shops:   \n",
        "  if len(primary_shop['term_counts']) == 0:\n",
        "    x.append(primary_shop['shop_name'])\n",
        "    y.append(\"Has No Terms\")\n",
        "  else:\n",
        "    x.append(primary_shop['shop_name'])\n",
        "    \n",
        "    # Sorting the list of tuples based on count in descending order\n",
        "    # Prints only first 5 terms\n",
        "\n",
        "    y.append([i[0] for i in sorted(primary_shop['term_counts'].items(), key=operator.itemgetter(1), reverse=True)[:5]])\n"
      ],
      "execution_count": 0,
      "outputs": []
    },
    {
      "metadata": {
        "id": "m9PVP0FjCnHR",
        "colab_type": "code",
        "outputId": "e702b547-5039-420a-abce-422450219d3a",
        "colab": {
          "base_uri": "https://localhost:8080/",
          "height": 359
        }
      },
      "cell_type": "code",
      "source": [
        "df['shop_name'] = x\n",
        "df['Top 5 Terms'] = y\n",
        "df"
      ],
      "execution_count": 0,
      "outputs": [
        {
          "output_type": "execute_result",
          "data": {
            "text/html": [
              "<div>\n",
              "<style scoped>\n",
              "    .dataframe tbody tr th:only-of-type {\n",
              "        vertical-align: middle;\n",
              "    }\n",
              "\n",
              "    .dataframe tbody tr th {\n",
              "        vertical-align: top;\n",
              "    }\n",
              "\n",
              "    .dataframe thead th {\n",
              "        text-align: right;\n",
              "    }\n",
              "</style>\n",
              "<table border=\"1\" class=\"dataframe\">\n",
              "  <thead>\n",
              "    <tr style=\"text-align: right;\">\n",
              "      <th></th>\n",
              "      <th>shop_name</th>\n",
              "      <th>Top 5 Terms</th>\n",
              "    </tr>\n",
              "  </thead>\n",
              "  <tbody>\n",
              "    <tr>\n",
              "      <th>0</th>\n",
              "      <td>MalbumuDesignShop</td>\n",
              "      <td>[mustafa, kemal, atat, rk, signiture]</td>\n",
              "    </tr>\n",
              "    <tr>\n",
              "      <th>1</th>\n",
              "      <td>Addarbable</td>\n",
              "      <td>[handmade, ear, warmer, sizes, colors]</td>\n",
              "    </tr>\n",
              "    <tr>\n",
              "      <th>2</th>\n",
              "      <td>RavenandRose1809</td>\n",
              "      <td>[custom, order, perfume]</td>\n",
              "    </tr>\n",
              "    <tr>\n",
              "      <th>3</th>\n",
              "      <td>LoveMyDogCo</td>\n",
              "      <td>[bigfoot, coffee, mug, funny, gift]</td>\n",
              "    </tr>\n",
              "    <tr>\n",
              "      <th>4</th>\n",
              "      <td>Jo120783</td>\n",
              "      <td>[ercol, plank, table, candlestick, chairs]</td>\n",
              "    </tr>\n",
              "    <tr>\n",
              "      <th>5</th>\n",
              "      <td>MinimalistMouse</td>\n",
              "      <td>[reborn, baby, boo, inches, adorable]</td>\n",
              "    </tr>\n",
              "    <tr>\n",
              "      <th>6</th>\n",
              "      <td>OrogenProjects</td>\n",
              "      <td>[cards, christmas, detail, cactus, cute]</td>\n",
              "    </tr>\n",
              "    <tr>\n",
              "      <th>7</th>\n",
              "      <td>DrawNaked</td>\n",
              "      <td>[billie, original, drawing, heavy, weight]</td>\n",
              "    </tr>\n",
              "    <tr>\n",
              "      <th>8</th>\n",
              "      <td>UnDesignedShop</td>\n",
              "      <td>[chips, blythe, glass, eye, pairs]</td>\n",
              "    </tr>\n",
              "    <tr>\n",
              "      <th>9</th>\n",
              "      <td>PREDATORSHELMET</td>\n",
              "      <td>[helmet, predators, led, lights, color]</td>\n",
              "    </tr>\n",
              "  </tbody>\n",
              "</table>\n",
              "</div>"
            ],
            "text/plain": [
              "           shop_name                                 Top 5 Terms\n",
              "0  MalbumuDesignShop  [mustafa, kemal, atat, rk, signiture]     \n",
              "1  Addarbable         [handmade, ear, warmer, sizes, colors]    \n",
              "2  RavenandRose1809   [custom, order, perfume]                  \n",
              "3  LoveMyDogCo        [bigfoot, coffee, mug, funny, gift]       \n",
              "4  Jo120783           [ercol, plank, table, candlestick, chairs]\n",
              "5  MinimalistMouse    [reborn, baby, boo, inches, adorable]     \n",
              "6  OrogenProjects     [cards, christmas, detail, cactus, cute]  \n",
              "7  DrawNaked          [billie, original, drawing, heavy, weight]\n",
              "8  UnDesignedShop     [chips, blythe, glass, eye, pairs]        \n",
              "9  PREDATORSHELMET    [helmet, predators, led, lights, color]   "
            ]
          },
          "metadata": {
            "tags": []
          },
          "execution_count": 52
        }
      ]
    },
    {
      "metadata": {
        "id": "HPKnU2w1lMqJ",
        "colab_type": "text"
      },
      "cell_type": "markdown",
      "source": [
        "# TF-IDF Terms"
      ]
    },
    {
      "metadata": {
        "id": "lYAHa72a18gm",
        "colab_type": "code",
        "colab": {}
      },
      "cell_type": "code",
      "source": [
        "x = []\n",
        "y = []\n",
        "df = pd.DataFrame(columns =['shop_name','Top 5 Terms'])\n",
        "\n",
        "\n",
        "for primary_shop in shops:   \n",
        "  if len(primary_shop['term_weights']) == 0:\n",
        "    x.append(primary_shop['shop_name'])\n",
        "    y.append(\"Has No Terms\")\n",
        "    \n",
        "  else:\n",
        "    x.append(primary_shop['shop_name'])\n",
        "    # Sorting the list of tuples based on count in descending order\n",
        "    # Prints only first 5 terms\n",
        "\n",
        "    y.append([i[0] for i in sorted(primary_shop['term_weights'].items(), key=operator.itemgetter(1), reverse=True)[:5]])  "
      ],
      "execution_count": 0,
      "outputs": []
    },
    {
      "metadata": {
        "id": "5vOm6KTYkWXh",
        "colab_type": "code",
        "outputId": "04bc1b5e-ab80-44f7-c574-432f300514a9",
        "colab": {
          "base_uri": "https://localhost:8080/",
          "height": 359
        }
      },
      "cell_type": "code",
      "source": [
        "df['shop_name'] = x\n",
        "df['Top 5 Terms'] = y\n",
        "df"
      ],
      "execution_count": 0,
      "outputs": [
        {
          "output_type": "execute_result",
          "data": {
            "text/html": [
              "<div>\n",
              "<style scoped>\n",
              "    .dataframe tbody tr th:only-of-type {\n",
              "        vertical-align: middle;\n",
              "    }\n",
              "\n",
              "    .dataframe tbody tr th {\n",
              "        vertical-align: top;\n",
              "    }\n",
              "\n",
              "    .dataframe thead th {\n",
              "        text-align: right;\n",
              "    }\n",
              "</style>\n",
              "<table border=\"1\" class=\"dataframe\">\n",
              "  <thead>\n",
              "    <tr style=\"text-align: right;\">\n",
              "      <th></th>\n",
              "      <th>shop_name</th>\n",
              "      <th>Top 5 Terms</th>\n",
              "    </tr>\n",
              "  </thead>\n",
              "  <tbody>\n",
              "    <tr>\n",
              "      <th>0</th>\n",
              "      <td>MalbumuDesignShop</td>\n",
              "      <td>[mustafa, kemal, atat, rk, signiture]</td>\n",
              "    </tr>\n",
              "    <tr>\n",
              "      <th>1</th>\n",
              "      <td>Addarbable</td>\n",
              "      <td>[ear, warmer, sizes, colors, keep]</td>\n",
              "    </tr>\n",
              "    <tr>\n",
              "      <th>2</th>\n",
              "      <td>RavenandRose1809</td>\n",
              "      <td>[custom, order, perfume]</td>\n",
              "    </tr>\n",
              "    <tr>\n",
              "      <th>3</th>\n",
              "      <td>LoveMyDogCo</td>\n",
              "      <td>[bigfoot, coffee, mug, funny, gift]</td>\n",
              "    </tr>\n",
              "    <tr>\n",
              "      <th>4</th>\n",
              "      <td>Jo120783</td>\n",
              "      <td>[ercol, plank, table, candlestick, chairs]</td>\n",
              "    </tr>\n",
              "    <tr>\n",
              "      <th>5</th>\n",
              "      <td>MinimalistMouse</td>\n",
              "      <td>[reborn, baby, boo, adorable, layette]</td>\n",
              "    </tr>\n",
              "    <tr>\n",
              "      <th>6</th>\n",
              "      <td>OrogenProjects</td>\n",
              "      <td>[cards, christmas, detail, cactus, cute]</td>\n",
              "    </tr>\n",
              "    <tr>\n",
              "      <th>7</th>\n",
              "      <td>DrawNaked</td>\n",
              "      <td>[billie, drawing, heavy, weight, cartridge]</td>\n",
              "    </tr>\n",
              "    <tr>\n",
              "      <th>8</th>\n",
              "      <td>UnDesignedShop</td>\n",
              "      <td>[chips, blythe, glass, eye, pairs]</td>\n",
              "    </tr>\n",
              "    <tr>\n",
              "      <th>9</th>\n",
              "      <td>PREDATORSHELMET</td>\n",
              "      <td>[helmet, predators, led, lights, color]</td>\n",
              "    </tr>\n",
              "  </tbody>\n",
              "</table>\n",
              "</div>"
            ],
            "text/plain": [
              "           shop_name                                  Top 5 Terms\n",
              "0  MalbumuDesignShop  [mustafa, kemal, atat, rk, signiture]      \n",
              "1  Addarbable         [ear, warmer, sizes, colors, keep]         \n",
              "2  RavenandRose1809   [custom, order, perfume]                   \n",
              "3  LoveMyDogCo        [bigfoot, coffee, mug, funny, gift]        \n",
              "4  Jo120783           [ercol, plank, table, candlestick, chairs] \n",
              "5  MinimalistMouse    [reborn, baby, boo, adorable, layette]     \n",
              "6  OrogenProjects     [cards, christmas, detail, cactus, cute]   \n",
              "7  DrawNaked          [billie, drawing, heavy, weight, cartridge]\n",
              "8  UnDesignedShop     [chips, blythe, glass, eye, pairs]         \n",
              "9  PREDATORSHELMET    [helmet, predators, led, lights, color]    "
            ]
          },
          "metadata": {
            "tags": []
          },
          "execution_count": 54
        }
      ]
    },
    {
      "metadata": {
        "id": "v2JgFvD3-dah",
        "colab_type": "text"
      },
      "cell_type": "markdown",
      "source": [
        "# Results:\n",
        "These two approaches seems to return almost the same results. \\\n",
        "Now, the next step to identify the shops which sells same kind of products by comparing the terms and their counts produced by Bag-of-words using cosine similarity."
      ]
    },
    {
      "metadata": {
        "id": "jDwp5ZeMuYvn",
        "colab_type": "text"
      },
      "cell_type": "markdown",
      "source": [
        "# Identifying Similar Shops: \n",
        "Let's check on existance of similar shops within the set of shops using cosine similarity of the terms obtained from TF-IDF"
      ]
    },
    {
      "metadata": {
        "id": "9j0fX77u_-aS",
        "colab_type": "code",
        "colab": {}
      },
      "cell_type": "code",
      "source": [
        "def cosine_similarity(weights_1, weights_2):\n",
        "\n",
        "    # Input: two hashes from term to term weight\n",
        "    # Output: the cosine similarity score between the two hashes\n",
        "    \n",
        "    if not weights_1 or not weights_2:\n",
        "        return 0.0\n",
        "    intersection = set(weights_1.keys()) & set(weights_2.keys())\n",
        "    numerator = sum([weights_1[term] * weights_2[term] for term in intersection])\n",
        "\n",
        "    sum_1 = sum([weights_1[term]**2 for term in weights_1.keys()])\n",
        "    sum_2 = sum([weights_2[term]**2 for term in weights_2.keys()])\n",
        "    denominator = math.sqrt(sum_1) * math.sqrt(sum_2)\n",
        "\n",
        "    if not denominator:\n",
        "        return 0.0\n",
        "    else:\n",
        "        return float(numerator) / denominator"
      ],
      "execution_count": 0,
      "outputs": []
    },
    {
      "metadata": {
        "id": "Xzos5UG5_C_H",
        "colab_type": "code",
        "colab": {}
      },
      "cell_type": "code",
      "source": [
        "x = []\n",
        "y = []\n",
        "df2 = pd.DataFrame(columns =['shop_name','similar_shops'])\n",
        "def print_similar_shops(primary_shop, similar_shops):\n",
        "\n",
        "    # Input: a shop object along with a list of (shop, similarity score) pairs\n",
        "    # Output: prints the primary and similar shops' names\n",
        "    \n",
        "    print ('\\033[1m' +primary_shop['shop_name'] + \":\")\n",
        "    if len(similar_shops) <= 1:\n",
        "        x.append(primary_shop['shop_name'])\n",
        "        y.append(\" No similar shops were found!\")\n",
        "   \n",
        "        print ('\\033[0m' + \"No similar shops were found!\")\n",
        "    else:\n",
        "        for similar_shop in similar_shops[:-1]:\n",
        "            print ('\\033[0m' + similar_shop[0]['shop_name'] + \"\\t\")\n",
        "        print ('\\033[0m' + similar_shops[-1][0]['shop_name'])\n",
        "        x.append(primary_shop['shop_name'])\n",
        "        y.append(similar_shop[0]['shop_name'] +\"  \"+ similar_shops[-1][0]['shop_name'])\n",
        "        "
      ],
      "execution_count": 0,
      "outputs": []
    },
    {
      "metadata": {
        "id": "IUiEGExvIplX",
        "colab_type": "text"
      },
      "cell_type": "markdown",
      "source": [
        "The below shown results has primary shop is displayed in bold with their complete list of similar shops displayed next to them."
      ]
    },
    {
      "metadata": {
        "id": "b1HyccBC_e7_",
        "colab_type": "code",
        "outputId": "b4e9763c-8a32-4f94-9265-df1eb715f237",
        "colab": {
          "base_uri": "https://localhost:8080/",
          "height": 799
        }
      },
      "cell_type": "code",
      "source": [
        "# Calculate and print the five most similar shops to each shop\n",
        "for primary_shop in shops:   \n",
        "        if len(primary_shop['term_counts']) == 0:\n",
        "            print (primary_shop['shop_name'] + \" has no terms!\")\n",
        "            continue     \n",
        "        similar_shops = []\n",
        "        for other_shop in shops:\n",
        "            similarity = cosine_similarity(\n",
        "                primary_shop['term_weights'], \n",
        "                other_shop['term_weights']\n",
        "            )\n",
        "            if similarity > 0:\n",
        "                similar_shops.append((other_shop, similarity))\n",
        "        similar_shops = sorted(similar_shops, key=lambda entry: -1 * entry[1]) \n",
        "        print_similar_shops(primary_shop, similar_shops[1:6])"
      ],
      "execution_count": 0,
      "outputs": [
        {
          "output_type": "stream",
          "text": [
            "\u001b[1mMalbumuDesignShop:\n",
            "\u001b[0mUnDesignedShop\t\n",
            "\u001b[0mPREDATORSHELMET\n",
            "\u001b[1mAddarbable:\n",
            "\u001b[0mPREDATORSHELMET\t\n",
            "\u001b[0mMinimalistMouse\t\n",
            "\u001b[0mUnDesignedShop\t\n",
            "\u001b[0mOrogenProjects\t\n",
            "\u001b[0mJo120783\n",
            "\u001b[1mRavenandRose1809:\n",
            "\u001b[0mNo similar shops were found!\n",
            "\u001b[1mLoveMyDogCo:\n",
            "\u001b[0mNo similar shops were found!\n",
            "\u001b[1mJo120783:\n",
            "\u001b[0mDrawNaked\t\n",
            "\u001b[0mPREDATORSHELMET\t\n",
            "\u001b[0mOrogenProjects\t\n",
            "\u001b[0mAddarbable\t\n",
            "\u001b[0mUnDesignedShop\n",
            "\u001b[1mMinimalistMouse:\n",
            "\u001b[0mAddarbable\t\n",
            "\u001b[0mUnDesignedShop\t\n",
            "\u001b[0mPREDATORSHELMET\t\n",
            "\u001b[0mOrogenProjects\t\n",
            "\u001b[0mJo120783\n",
            "\u001b[1mOrogenProjects:\n",
            "\u001b[0mDrawNaked\t\n",
            "\u001b[0mJo120783\t\n",
            "\u001b[0mAddarbable\t\n",
            "\u001b[0mMinimalistMouse\n",
            "\u001b[1mDrawNaked:\n",
            "\u001b[0mOrogenProjects\t\n",
            "\u001b[0mJo120783\t\n",
            "\u001b[0mPREDATORSHELMET\n",
            "\u001b[1mUnDesignedShop:\n",
            "\u001b[0mMalbumuDesignShop\t\n",
            "\u001b[0mMinimalistMouse\t\n",
            "\u001b[0mAddarbable\t\n",
            "\u001b[0mPREDATORSHELMET\t\n",
            "\u001b[0mJo120783\n",
            "\u001b[1mPREDATORSHELMET:\n",
            "\u001b[0mAddarbable\t\n",
            "\u001b[0mJo120783\t\n",
            "\u001b[0mDrawNaked\t\n",
            "\u001b[0mMinimalistMouse\t\n",
            "\u001b[0mUnDesignedShop\n"
          ],
          "name": "stdout"
        }
      ]
    },
    {
      "metadata": {
        "id": "uyOXesVJE-up",
        "colab_type": "text"
      },
      "cell_type": "markdown",
      "source": [
        "Let's format these in readle format with a pandas dataframe. The below shows atmost two similar shops for a specified shop"
      ]
    },
    {
      "metadata": {
        "id": "vsyF1cogDhwi",
        "colab_type": "code",
        "outputId": "83c62234-f0cc-46d6-c5c3-194e8b71d4fd",
        "colab": {
          "base_uri": "https://localhost:8080/",
          "height": 359
        }
      },
      "cell_type": "code",
      "source": [
        "pd.set_option('display.max_colwidth', -1)\n",
        "df2['shop_name'] = x\n",
        "df2['similar_shops'] = y\n",
        "df2"
      ],
      "execution_count": 0,
      "outputs": [
        {
          "output_type": "execute_result",
          "data": {
            "text/html": [
              "<div>\n",
              "<style scoped>\n",
              "    .dataframe tbody tr th:only-of-type {\n",
              "        vertical-align: middle;\n",
              "    }\n",
              "\n",
              "    .dataframe tbody tr th {\n",
              "        vertical-align: top;\n",
              "    }\n",
              "\n",
              "    .dataframe thead th {\n",
              "        text-align: right;\n",
              "    }\n",
              "</style>\n",
              "<table border=\"1\" class=\"dataframe\">\n",
              "  <thead>\n",
              "    <tr style=\"text-align: right;\">\n",
              "      <th></th>\n",
              "      <th>shop_name</th>\n",
              "      <th>similar_shops</th>\n",
              "    </tr>\n",
              "  </thead>\n",
              "  <tbody>\n",
              "    <tr>\n",
              "      <th>0</th>\n",
              "      <td>MalbumuDesignShop</td>\n",
              "      <td>UnDesignedShop  PREDATORSHELMET</td>\n",
              "    </tr>\n",
              "    <tr>\n",
              "      <th>1</th>\n",
              "      <td>Addarbable</td>\n",
              "      <td>OrogenProjects  Jo120783</td>\n",
              "    </tr>\n",
              "    <tr>\n",
              "      <th>2</th>\n",
              "      <td>RavenandRose1809</td>\n",
              "      <td>No similar shops were found!</td>\n",
              "    </tr>\n",
              "    <tr>\n",
              "      <th>3</th>\n",
              "      <td>LoveMyDogCo</td>\n",
              "      <td>No similar shops were found!</td>\n",
              "    </tr>\n",
              "    <tr>\n",
              "      <th>4</th>\n",
              "      <td>Jo120783</td>\n",
              "      <td>Addarbable  UnDesignedShop</td>\n",
              "    </tr>\n",
              "    <tr>\n",
              "      <th>5</th>\n",
              "      <td>MinimalistMouse</td>\n",
              "      <td>OrogenProjects  Jo120783</td>\n",
              "    </tr>\n",
              "    <tr>\n",
              "      <th>6</th>\n",
              "      <td>OrogenProjects</td>\n",
              "      <td>Addarbable  MinimalistMouse</td>\n",
              "    </tr>\n",
              "    <tr>\n",
              "      <th>7</th>\n",
              "      <td>DrawNaked</td>\n",
              "      <td>Jo120783  PREDATORSHELMET</td>\n",
              "    </tr>\n",
              "    <tr>\n",
              "      <th>8</th>\n",
              "      <td>UnDesignedShop</td>\n",
              "      <td>PREDATORSHELMET  Jo120783</td>\n",
              "    </tr>\n",
              "    <tr>\n",
              "      <th>9</th>\n",
              "      <td>PREDATORSHELMET</td>\n",
              "      <td>MinimalistMouse  UnDesignedShop</td>\n",
              "    </tr>\n",
              "  </tbody>\n",
              "</table>\n",
              "</div>"
            ],
            "text/plain": [
              "           shop_name                    similar_shops\n",
              "0  MalbumuDesignShop  UnDesignedShop  PREDATORSHELMET\n",
              "1  Addarbable         OrogenProjects  Jo120783       \n",
              "2  RavenandRose1809    No similar shops were found!  \n",
              "3  LoveMyDogCo         No similar shops were found!  \n",
              "4  Jo120783           Addarbable  UnDesignedShop     \n",
              "5  MinimalistMouse    OrogenProjects  Jo120783       \n",
              "6  OrogenProjects     Addarbable  MinimalistMouse    \n",
              "7  DrawNaked          Jo120783  PREDATORSHELMET      \n",
              "8  UnDesignedShop     PREDATORSHELMET  Jo120783      \n",
              "9  PREDATORSHELMET    MinimalistMouse  UnDesignedShop"
            ]
          },
          "metadata": {
            "tags": []
          },
          "execution_count": 58
        }
      ]
    },
    {
      "metadata": {
        "id": "5_mdgo4TpWZU",
        "colab_type": "text"
      },
      "cell_type": "markdown",
      "source": [
        "# Conclusion:\n",
        "The Successful model may improve the sales by giving information to sellers what kind of  products to focus on.This information is obtained by looking at the meaningful terms of most selling shops on Etsy. Information about most selling shops is obtained from http://www.craftcount.com/index.php. \\\\\n",
        "This site ranks Etsy shops by sales over a given duration. We can also choose to see rankings for specific countries or categories. This is a useful tool, however the website only ranks shops that have specifically signed up to appear in the rankings.\n"
      ]
    }
  ]
}